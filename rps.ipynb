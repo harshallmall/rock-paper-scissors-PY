{
 "cells": [
  {
   "cell_type": "code",
   "execution_count": null,
   "id": "ce967b9d",
   "metadata": {},
   "outputs": [],
   "source": [
    "# Prerequisite - Import randint to generate random numbers.\n",
    "from random import randint\n",
    "# Step One - Player chooses either Rock, Paper, or Scissors.\n",
    "player = input(\"Rock, Paper, Scissors\")\n",
    "# Step Two - Print result of Step One with the string \"vs.\" to show player selection.\n",
    "#print(player)\n",
    "# Step Three - Call random function to generate a number to simulate the computer's selection.\n",
    "# The function parameter is set to select between the integers 1, 2, or 3.\n",
    "computer = randint(1, 3)\n",
    "# Step Four - Create if/elif/else statement for selection to equate the integers to the strings.\n",
    "if computer == 1:\n",
    "    computer = \"Rock\"\n",
    "elif computer == 2:\n",
    "    computer = \"Paper\"\n",
    "else:\n",
    "    computer = \"Scissors\"\n",
    "# Step Six - Print result of Step One and the result of Step Five with a space instead of a new line.\n",
    "# print(player, \"vs\", computer, end=\" \")\n",
    "# Step Seven - Compare the game results with an if/elif/else statement to determine a winner.\n",
    "if player == computer:\n",
    "    print(\"Draw\")\n",
    "elif player == \"Rock\" and computer == \"Scissors\":\n",
    "    print(\"Player wins\")\n",
    "elif player == \"Rock\" and computer == \"Paper\":\n",
    "    print(\"Computer wins\")\n",
    "elif player == \"Paper\" and computer == \"Rock\":\n",
    "    print(\"Player wins\")\n",
    "elif player == \"Paper\" and computer == \"Scissors\":\n",
    "    print(\"Computer wins\")\n",
    "elif player == \"Scissors\" and computer == \"Rock\":\n",
    "    print(\"Player wins\")\n",
    "elif player == \"Scissors\" and computer == \"Paper\":\n",
    "    print(\"Computer wins\")\n",
    "else:\n",
    "    print(\"Draw\")\n",
    "# Step Eight - Print the result of the comparison of results.\n",
    "print(player, \"vs\", computer, end=\" \")"
   ]
  }
 ],
 "metadata": {
  "interpreter": {
   "hash": "4c5c89a5cdf82b897d072d47e81ed6d96605a1416d5c4582b2637b466b8b70ef"
  },
  "kernelspec": {
   "display_name": "Python 3.9.5 ('base': conda)",
   "language": "python",
   "name": "python3"
  },
  "language_info": {
   "codemirror_mode": {
    "name": "ipython",
    "version": 3
   },
   "file_extension": ".py",
   "mimetype": "text/x-python",
   "name": "python",
   "nbconvert_exporter": "python",
   "pygments_lexer": "ipython3",
   "version": "3.9.5"
  }
 },
 "nbformat": 4,
 "nbformat_minor": 5
}
